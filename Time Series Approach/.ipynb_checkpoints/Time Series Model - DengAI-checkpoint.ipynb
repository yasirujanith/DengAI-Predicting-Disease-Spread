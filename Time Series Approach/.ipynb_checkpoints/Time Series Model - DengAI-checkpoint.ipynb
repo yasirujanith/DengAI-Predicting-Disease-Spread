{
 "cells": [
  {
   "cell_type": "code",
   "execution_count": 474,
   "metadata": {},
   "outputs": [
    {
     "name": "stdout",
     "output_type": "stream",
     "text": [
      "INFO:tensorflow:Tensorflow version 1.10.0\n"
     ]
    }
   ],
   "source": [
    "from sklearn.model_selection import train_test_split\n",
    "import numpy as np\n",
    "from matplotlib import pyplot as plt\n",
    " \n",
    "import tensorflow as tf\n",
    "import pandas as pd\n",
    " \n",
    "from tensorflow.python.platform import tf_logging as logging\n",
    " \n",
    "logging.set_verbosity(logging.INFO)\n",
    "logging.log(logging.INFO, \"Tensorflow version \" + tf.__version__)"
   ]
  },
  {
   "cell_type": "code",
   "execution_count": 475,
   "metadata": {},
   "outputs": [],
   "source": [
    "train_labels = pd.read_csv('./dengue_labels_train.csv')\n",
    "train_labels = train_labels[0: 1450]"
   ]
  },
  {
   "cell_type": "code",
   "execution_count": 476,
   "metadata": {},
   "outputs": [],
   "source": [
    "data = train_labels['total_cases'].values\n",
    "data = data.astype(np.float32)"
   ]
  },
  {
   "cell_type": "code",
   "execution_count": 477,
   "metadata": {},
   "outputs": [],
   "source": [
    "SEQLEN = 10  # unrolled sequence length\n",
    "BATCHSIZE = 32\n",
    " \n",
    "X = data\n",
    "Y = np.roll(data, -1)\n",
    " \n",
    "# X_train, X_test, Y_train, Y_test = train_test_split(X, Y, test_size=0.2, random_state=0)\n",
    "\n",
    "X_train, Y_train = X, Y\n",
    " \n",
    "X_train = np.reshape(X_train, [-1, SEQLEN])\n",
    "Y_train = np.reshape(Y_train, [-1, SEQLEN])\n",
    " \n",
    "# X_test = np.reshape(X_test, [-1, SEQLEN])\n",
    "# Y_test = np.reshape(Y_test, [-1, SEQLEN])"
   ]
  },
  {
   "cell_type": "code",
   "execution_count": 478,
   "metadata": {},
   "outputs": [],
   "source": [
    "def train_dataset():\n",
    "    dataset = tf.data.Dataset.from_tensor_slices((X_train, Y_train))\n",
    "    dataset = dataset.repeat()\n",
    "    dataset = dataset.shuffle(DATA_SEQ_LEN * 4 // SEQLEN)\n",
    "    dataset = dataset.batch(BATCHSIZE)\n",
    "    samples, labels = dataset.make_one_shot_iterator().get_next()\n",
    "    return samples, labels\n",
    " \n",
    "# def eval_dataset():\n",
    "#     evaldataset = tf.data.Dataset.from_tensor_slices((X_test, Y_test))\n",
    "#     evaldataset = evaldataset.repeat(1)\n",
    "#     evaldataset = evaldataset.batch(BATCHSIZE)\n",
    " \n",
    "#     samples, labels = evaldataset.make_one_shot_iterator().get_next()\n",
    "#     return samples, labels"
   ]
  },
  {
   "cell_type": "code",
   "execution_count": 479,
   "metadata": {},
   "outputs": [],
   "source": [
    "RNN_CELLSIZE = 80\n",
    "N_LAYERS = 2\n",
    "DROPOUT_PKEEP = 0.7\n",
    " \n",
    "def model_rnn_fn(features, labels, mode):\n",
    "    \n",
    "    X = tf.expand_dims(features, axis=2)\n",
    " \n",
    "    batchsize = tf.shape(X)[0]\n",
    "    seqlen = tf.shape(X)[1]\n",
    " \n",
    "    cells = [tf.nn.rnn_cell.GRUCell(RNN_CELLSIZE) for _ in range(N_LAYERS)]\n",
    " \n",
    "    cells[:-1] = [tf.nn.rnn_cell.DropoutWrapper(cell, output_keep_prob=DROPOUT_PKEEP) for cell in cells[:-1]]\n",
    "    \n",
    "     # a stacked RNN cell still works like an RNN cell\n",
    "    cell = tf.nn.rnn_cell.MultiRNNCell(cells, state_is_tuple=False)\n",
    " \n",
    "    # X[BATCHSIZE, SEQLEN, 1], Hin[BATCHSIZE, RNN_CELLSIZE*N_LAYERS]\n",
    "    Yn, H = tf.nn.dynamic_rnn(cell, X, dtype=tf.float32)\n",
    " \n",
    "    Yn = tf.reshape(Yn, [batchsize * seqlen, RNN_CELLSIZE])\n",
    "    Yr = tf.layers.dense(Yn, 1)  # Yr [BATCHSIZE*SEQLEN, 1]\n",
    "    Yr = tf.reshape(Yr, [batchsize, seqlen, 1])  # Yr [BATCHSIZE, SEQLEN, 1]\n",
    " \n",
    "    Yout = Yr[:, -1, :]  # Last output Yout [BATCHSIZE, 1]\n",
    " \n",
    "    loss = train_op = None\n",
    "    if mode != tf.estimator.ModeKeys.PREDICT:\n",
    "        labels = tf.expand_dims(labels, axis=2)\n",
    "        loss = tf.losses.mean_squared_error(Yr, labels)  # la  bels[BATCHSIZE, SEQLEN, 1]\n",
    "        lr = 0.001\n",
    "        optimizer = tf.train.AdamOptimizer(learning_rate=lr)\n",
    " \n",
    "        train_op = tf.contrib.training.create_train_op(loss, optimizer)\n",
    " \n",
    "    return tf.estimator.EstimatorSpec(\n",
    "        mode=mode,\n",
    "        predictions={\"Yout\": Yout},\n",
    "        loss=loss,\n",
    "        train_op=train_op\n",
    "    )"
   ]
  },
  {
   "cell_type": "code",
   "execution_count": 480,
   "metadata": {},
   "outputs": [
    {
     "name": "stdout",
     "output_type": "stream",
     "text": [
      "INFO:tensorflow:Using config: {'_model_dir': './outputdir', '_tf_random_seed': None, '_save_summary_steps': 100, '_save_checkpoints_steps': None, '_save_checkpoints_secs': 600, '_session_config': None, '_keep_checkpoint_max': 5, '_keep_checkpoint_every_n_hours': 10000, '_log_step_count_steps': 100, '_train_distribute': None, '_device_fn': None, '_service': None, '_cluster_spec': <tensorflow.python.training.server_lib.ClusterSpec object at 0x00000281C6B8FB00>, '_task_type': 'worker', '_task_id': 0, '_global_id_in_cluster': 0, '_master': '', '_evaluation_master': '', '_is_chief': True, '_num_ps_replicas': 0, '_num_worker_replicas': 1}\n"
     ]
    }
   ],
   "source": [
    "training_config = tf.estimator.RunConfig(model_dir=\"./outputdir\")\n",
    "estimator = tf.estimator.Estimator(model_fn=model_rnn_fn, config=training_config)"
   ]
  },
  {
   "cell_type": "code",
   "execution_count": 481,
   "metadata": {},
   "outputs": [
    {
     "name": "stdout",
     "output_type": "stream",
     "text": [
      "INFO:tensorflow:Calling model_fn.\n",
      "INFO:tensorflow:Done calling model_fn.\n",
      "INFO:tensorflow:Create CheckpointSaverHook.\n",
      "INFO:tensorflow:Graph was finalized.\n",
      "INFO:tensorflow:Restoring parameters from ./outputdir\\model.ckpt-16000\n",
      "INFO:tensorflow:Running local_init_op.\n",
      "INFO:tensorflow:Done running local_init_op.\n",
      "INFO:tensorflow:Saving checkpoints for 16000 into ./outputdir\\model.ckpt.\n",
      "INFO:tensorflow:loss = 20.322433, step = 16001\n",
      "INFO:tensorflow:global_step/sec: 49.5088\n",
      "INFO:tensorflow:loss = 282.3104, step = 16101 (2.022 sec)\n",
      "INFO:tensorflow:global_step/sec: 65.8485\n",
      "INFO:tensorflow:loss = 24.790604, step = 16201 (1.518 sec)\n",
      "INFO:tensorflow:global_step/sec: 67.2429\n",
      "INFO:tensorflow:loss = 39.5908, step = 16301 (1.490 sec)\n",
      "INFO:tensorflow:global_step/sec: 66.8833\n",
      "INFO:tensorflow:loss = 19.566792, step = 16401 (1.493 sec)\n",
      "INFO:tensorflow:global_step/sec: 67.4695\n",
      "INFO:tensorflow:loss = 27.938442, step = 16501 (1.481 sec)\n",
      "INFO:tensorflow:global_step/sec: 67.2881\n",
      "INFO:tensorflow:loss = 59.508305, step = 16601 (1.487 sec)\n",
      "INFO:tensorflow:global_step/sec: 66.6161\n",
      "INFO:tensorflow:loss = 28.927292, step = 16701 (1.501 sec)\n",
      "INFO:tensorflow:global_step/sec: 67.6521\n",
      "INFO:tensorflow:loss = 19.976303, step = 16801 (1.477 sec)\n",
      "INFO:tensorflow:global_step/sec: 67.2429\n",
      "INFO:tensorflow:loss = 17.325071, step = 16901 (1.488 sec)\n",
      "INFO:tensorflow:global_step/sec: 66.3071\n",
      "INFO:tensorflow:loss = 277.51196, step = 17001 (1.508 sec)\n",
      "INFO:tensorflow:global_step/sec: 67.1977\n",
      "INFO:tensorflow:loss = 144.2467, step = 17101 (1.488 sec)\n",
      "INFO:tensorflow:global_step/sec: 67.1526\n",
      "INFO:tensorflow:loss = 30.107037, step = 17201 (1.489 sec)\n",
      "INFO:tensorflow:global_step/sec: 62.732\n",
      "INFO:tensorflow:loss = 28.258316, step = 17301 (1.594 sec)\n",
      "INFO:tensorflow:global_step/sec: 66.9728\n",
      "INFO:tensorflow:loss = 23.18104, step = 17401 (1.493 sec)\n",
      "INFO:tensorflow:global_step/sec: 65.3116\n",
      "INFO:tensorflow:loss = 21.294487, step = 17501 (1.530 sec)\n",
      "INFO:tensorflow:global_step/sec: 66.7494\n",
      "INFO:tensorflow:loss = 154.0575, step = 17601 (1.499 sec)\n",
      "INFO:tensorflow:global_step/sec: 66.8833\n",
      "INFO:tensorflow:loss = 72.969055, step = 17701 (1.495 sec)\n",
      "INFO:tensorflow:global_step/sec: 66.4392\n",
      "INFO:tensorflow:loss = 23.028582, step = 17801 (1.505 sec)\n",
      "INFO:tensorflow:global_step/sec: 66.9728\n",
      "INFO:tensorflow:loss = 20.421494, step = 17901 (1.493 sec)\n",
      "INFO:tensorflow:Saving checkpoints for 18000 into ./outputdir\\model.ckpt.\n",
      "INFO:tensorflow:Loss for final step: 34.558243.\n"
     ]
    },
    {
     "data": {
      "text/plain": [
       "<tensorflow.python.estimator.estimator.Estimator at 0x281c6b8fcc0>"
      ]
     },
     "execution_count": 481,
     "metadata": {},
     "output_type": "execute_result"
    }
   ],
   "source": [
    "estimator.train(input_fn=train_dataset,steps=2000)"
   ]
  },
  {
   "cell_type": "code",
   "execution_count": 482,
   "metadata": {
    "scrolled": true
   },
   "outputs": [],
   "source": [
    "# results = estimator.predict(eval_dataset)\n",
    " \n",
    "# Yout_ = [result[\"Yout\"] for result in results]\n",
    " \n",
    "# actual = Y_test[:, -1]\n",
    "\n",
    "# fig, ax = plt.subplots(figsize=(20,8))\n",
    " \n",
    "# colors = plt.rcParams['axes.prop_cycle'].by_key()['color']\n",
    "# plt.plot(actual, label=\"Actual Values\", color='green')\n",
    "# plt.plot(Yout_, label=\"Predicted Values\", color='red', )\n",
    " \n",
    "# plt.show()"
   ]
  },
  {
   "cell_type": "code",
   "execution_count": 483,
   "metadata": {},
   "outputs": [],
   "source": [
    "submission_labels = pd.read_csv('./submissions/submission_benchmark.csv', index_col=[0,1,2])\n",
    "submission_labels_sj = submission_labels.loc['sj']\n",
    "submission_labels_iq = submission_labels.loc['iq'][0:150]\n",
    "\n",
    "X_sj = submission_labels_sj['total_cases'].values\n",
    "X_sj = X_sj.astype(np.float32)\n",
    "\n",
    "X_iq = submission_labels_iq['total_cases'].values\n",
    "X_iq = X_iq.astype(np.float32)\n"
   ]
  },
  {
   "cell_type": "code",
   "execution_count": 484,
   "metadata": {},
   "outputs": [],
   "source": [
    "Y_sj = np.roll(X_sj, -1)\n",
    "Y_iq = np.roll(X_iq, -1)\n",
    " \n",
    "X_sj = np.reshape(X_sj, [-1, SEQLEN])\n",
    "Y_sj = np.reshape(Y_sj, [-1, SEQLEN])\n",
    " \n",
    "X_iq = np.reshape(X_iq, [-1, SEQLEN])\n",
    "Y_iq = np.reshape(Y_iq, [-1, SEQLEN])\n"
   ]
  },
  {
   "cell_type": "code",
   "execution_count": 485,
   "metadata": {},
   "outputs": [],
   "source": [
    "def eval_set_sj():\n",
    "    evaldataset = tf.data.Dataset.from_tensor_slices((X_sj, Y_sj))\n",
    "    evaldataset = evaldataset.repeat(1)\n",
    "    evaldataset = evaldataset.batch(BATCHSIZE)\n",
    " \n",
    "    samples, labels = evaldataset.make_one_shot_iterator().get_next()\n",
    "    return samples, labels"
   ]
  },
  {
   "cell_type": "code",
   "execution_count": 486,
   "metadata": {},
   "outputs": [],
   "source": [
    "def eval_set_iq():\n",
    "    evaldataset = tf.data.Dataset.from_tensor_slices((X_iq, Y_iq))\n",
    "    evaldataset = evaldataset.repeat(1)\n",
    "    evaldataset = evaldataset.batch(BATCHSIZE)\n",
    " \n",
    "    samples, labels = evaldataset.make_one_shot_iterator().get_next()\n",
    "    return samples, labels"
   ]
  },
  {
   "cell_type": "code",
   "execution_count": 487,
   "metadata": {},
   "outputs": [
    {
     "name": "stdout",
     "output_type": "stream",
     "text": [
      "INFO:tensorflow:Calling model_fn.\n",
      "INFO:tensorflow:Done calling model_fn.\n",
      "INFO:tensorflow:Graph was finalized.\n",
      "INFO:tensorflow:Restoring parameters from ./outputdir\\model.ckpt-18000\n",
      "INFO:tensorflow:Running local_init_op.\n",
      "INFO:tensorflow:Done running local_init_op.\n"
     ]
    },
    {
     "data": {
      "text/plain": [
       "[52.546043,\n",
       " 55.826393,\n",
       " 21.199722,\n",
       " 23.028265,\n",
       " 11.916157,\n",
       " 32.752266,\n",
       " 43.33929,\n",
       " 36.225014,\n",
       " 29.88677,\n",
       " 31.938469,\n",
       " 54.170578,\n",
       " 67.551926,\n",
       " 35.823956,\n",
       " 20.245424,\n",
       " 15.052139,\n",
       " 20.770754,\n",
       " 53.831898,\n",
       " 31.051811,\n",
       " 29.116327,\n",
       " 15.796934,\n",
       " 51.75196,\n",
       " 46.60069,\n",
       " 33.745052,\n",
       " 29.852087,\n",
       " 16.467482,\n",
       " 25.795034]"
      ]
     },
     "execution_count": 487,
     "metadata": {},
     "output_type": "execute_result"
    }
   ],
   "source": [
    "results = estimator.predict(eval_set_sj)\n",
    " \n",
    "Yout_ = [result[\"Yout\"][0] for result in results]\n",
    "\n",
    "Yout_"
   ]
  },
  {
   "cell_type": "code",
   "execution_count": 488,
   "metadata": {},
   "outputs": [],
   "source": [
    "for i in range(26):\n",
    "    Y_sj[i][9] = Yout_[i]"
   ]
  },
  {
   "cell_type": "code",
   "execution_count": 489,
   "metadata": {},
   "outputs": [
    {
     "data": {
      "text/plain": [
       "array([[25.      , 33.      , 27.      , 29.      , 30.      , 32.      ,\n",
       "        40.      , 42.      , 39.      , 52.546043],\n",
       "       [37.      , 44.      , 41.      , 51.      , 52.      , 53.      ,\n",
       "        58.      , 71.      , 63.      , 55.826393],\n",
       "       [44.      , 56.      , 40.      , 39.      , 35.      , 32.      ,\n",
       "        40.      , 36.      , 33.      , 21.199722],\n",
       "       [20.      , 20.      , 24.      , 22.      , 22.      , 21.      ,\n",
       "        22.      , 23.      , 25.      , 23.028265],\n",
       "       [20.      , 19.      , 20.      , 21.      , 22.      , 19.      ,\n",
       "        20.      , 20.      , 21.      , 11.916157],\n",
       "       [24.      , 24.      , 22.      , 26.      , 25.      , 40.      ,\n",
       "        35.      , 34.      , 37.      , 32.752266],\n",
       "       [44.      , 46.      , 47.      , 51.      , 53.      , 45.      ,\n",
       "        45.      , 47.      , 54.      , 43.33929 ],\n",
       "       [53.      , 49.      , 45.      , 54.      , 55.      , 59.      ,\n",
       "        54.      , 43.      , 36.      , 36.225014],\n",
       "       [42.      , 42.      , 30.      , 31.      , 30.      , 28.      ,\n",
       "        28.      , 27.      , 25.      , 29.88677 ],\n",
       "       [25.      , 21.      , 23.      , 26.      , 27.      , 38.      ,\n",
       "        30.      , 29.      , 38.      , 31.938469],\n",
       "       [27.      , 24.      , 30.      , 46.      , 45.      , 33.      ,\n",
       "        38.      , 44.      , 64.      , 54.170578],\n",
       "       [50.      , 48.      , 52.      , 61.      , 69.      , 55.      ,\n",
       "        52.      , 56.      , 65.      , 67.551926],\n",
       "       [64.      , 65.      , 65.      , 61.      , 55.      , 49.      ,\n",
       "        54.      , 62.      , 46.      , 35.823956],\n",
       "       [41.      , 44.      , 29.      , 23.      , 23.      , 23.      ,\n",
       "        26.      , 23.      , 18.      , 20.245424],\n",
       "       [22.      , 21.      , 21.      , 18.      , 20.      , 20.      ,\n",
       "        19.      , 17.      , 19.      , 15.052139],\n",
       "       [18.      , 22.      , 27.      , 20.      , 20.      , 21.      ,\n",
       "        24.      , 20.      , 31.      , 20.770754],\n",
       "       [40.      , 40.      , 60.      , 55.      , 50.      , 45.      ,\n",
       "        46.      , 40.      , 50.      , 53.831898],\n",
       "       [58.      , 52.      , 54.      , 50.      , 44.      , 51.      ,\n",
       "        41.      , 46.      , 53.      , 31.051811],\n",
       "       [39.      , 31.      , 43.      , 36.      , 35.      , 31.      ,\n",
       "        29.      , 24.      , 26.      , 29.116327],\n",
       "       [20.      , 22.      , 20.      , 18.      , 18.      , 17.      ,\n",
       "        18.      , 19.      , 18.      , 15.796934],\n",
       "       [20.      , 18.      , 19.      , 20.      , 23.      , 24.      ,\n",
       "        23.      , 25.      , 30.      , 51.75196 ],\n",
       "       [37.      , 33.      , 27.      , 41.      , 39.      , 42.      ,\n",
       "        46.      , 42.      , 42.      , 46.60069 ],\n",
       "       [45.      , 41.      , 45.      , 53.      , 46.      , 42.      ,\n",
       "        37.      , 40.      , 41.      , 33.745052],\n",
       "       [47.      , 39.      , 57.      , 48.      , 55.      , 39.      ,\n",
       "        39.      , 39.      , 31.      , 29.852087],\n",
       "       [25.      , 23.      , 26.      , 20.      , 19.      , 18.      ,\n",
       "        20.      , 20.      , 19.      , 16.467482],\n",
       "       [19.      , 23.      , 19.      , 21.      , 27.      , 23.      ,\n",
       "        27.      , 25.      , 23.      , 25.795034]], dtype=float32)"
      ]
     },
     "execution_count": 489,
     "metadata": {},
     "output_type": "execute_result"
    }
   ],
   "source": [
    "Y_sj"
   ]
  },
  {
   "cell_type": "code",
   "execution_count": 490,
   "metadata": {},
   "outputs": [],
   "source": [
    "temp_sj = Y_sj.reshape(260)\n",
    "\n",
    "final_sj = np.roll(temp_sj, 1)\n",
    "df_sj=pd.DataFrame(final_sj, columns=['total_cases'])\n"
   ]
  },
  {
   "cell_type": "code",
   "execution_count": 491,
   "metadata": {},
   "outputs": [
    {
     "name": "stdout",
     "output_type": "stream",
     "text": [
      "INFO:tensorflow:Calling model_fn.\n",
      "INFO:tensorflow:Done calling model_fn.\n",
      "INFO:tensorflow:Graph was finalized.\n",
      "INFO:tensorflow:Restoring parameters from ./outputdir\\model.ckpt-18000\n",
      "INFO:tensorflow:Running local_init_op.\n",
      "INFO:tensorflow:Done running local_init_op.\n"
     ]
    },
    {
     "data": {
      "text/plain": [
       "[5.7207255,\n",
       " 8.92329,\n",
       " 12.722458,\n",
       " 17.503004,\n",
       " 14.98735,\n",
       " 4.4938846,\n",
       " 10.603901,\n",
       " 18.833677,\n",
       " 16.043793,\n",
       " 7.2846193,\n",
       " 5.764648,\n",
       " 4.300509,\n",
       " 23.23917,\n",
       " 11.738901,\n",
       " 6.4512973]"
      ]
     },
     "execution_count": 491,
     "metadata": {},
     "output_type": "execute_result"
    }
   ],
   "source": [
    "results = estimator.predict(eval_set_iq)\n",
    " \n",
    "Yout_ = [result[\"Yout\"][0] for result in results]\n",
    "\n",
    "Yout_"
   ]
  },
  {
   "cell_type": "code",
   "execution_count": 494,
   "metadata": {},
   "outputs": [
    {
     "data": {
      "text/plain": [
       "array([[ 5.       ,  8.       ,  2.       ,  2.       ,  5.       ,\n",
       "         3.       ,  5.       ,  4.       ,  6.       ,  5.7207255],\n",
       "       [ 5.       ,  5.       ,  5.       ,  5.       ,  5.       ,\n",
       "         6.       ,  9.       , 12.       ,  7.       ,  8.92329  ],\n",
       "       [ 9.       ,  9.       , 11.       ,  9.       ,  5.       ,\n",
       "         8.       ,  6.       ,  8.       ,  7.       , 12.722458 ],\n",
       "       [ 6.       ,  8.       ,  8.       ,  9.       ,  8.       ,\n",
       "         8.       ,  8.       ,  8.       , 10.       , 17.503004 ],\n",
       "       [ 8.       ,  8.       , 10.       , 10.       ,  5.       ,\n",
       "         8.       ,  9.       ,  7.       ,  6.       , 14.98735  ],\n",
       "       [ 5.       ,  7.       ,  7.       ,  3.       ,  4.       ,\n",
       "         5.       ,  4.       ,  4.       ,  4.       ,  4.4938846],\n",
       "       [ 3.       ,  5.       ,  6.       ,  6.       ,  9.       ,\n",
       "         6.       ,  8.       , 13.       ,  8.       , 10.603901 ],\n",
       "       [ 8.       ,  9.       ,  8.       , 10.       , 10.       ,\n",
       "         9.       , 10.       , 11.       ,  9.       , 18.833677 ],\n",
       "       [ 7.       ,  7.       ,  9.       , 10.       ,  8.       ,\n",
       "         7.       ,  6.       ,  8.       ,  7.       , 16.043793 ],\n",
       "       [ 8.       ,  7.       , 12.       , 11.       ,  9.       ,\n",
       "         8.       ,  4.       ,  9.       ,  6.       ,  7.2846193],\n",
       "       [ 6.       ,  3.       ,  5.       ,  4.       ,  4.       ,\n",
       "         4.       ,  5.       ,  2.       ,  4.       ,  5.764648 ],\n",
       "       [ 3.       ,  4.       ,  5.       ,  4.       ,  5.       ,\n",
       "         4.       ,  5.       ,  4.       , 10.       ,  4.300509 ],\n",
       "       [11.       ,  9.       ,  9.       , 13.       , 14.       ,\n",
       "        15.       , 10.       , 10.       , 12.       , 23.23917  ],\n",
       "       [ 6.       ,  8.       , 11.       , 10.       , 12.       ,\n",
       "        10.       , 10.       ,  9.       , 10.       , 11.738901 ],\n",
       "       [15.       , 11.       ,  9.       ,  8.       , 12.       ,\n",
       "         8.       ,  3.       , 11.       ,  8.       ,  6.4512973]],\n",
       "      dtype=float32)"
      ]
     },
     "execution_count": 494,
     "metadata": {},
     "output_type": "execute_result"
    }
   ],
   "source": [
    "for i in range(15):\n",
    "    Y_iq[i][9] = Yout_[i]\n",
    "Y_iq"
   ]
  },
  {
   "cell_type": "code",
   "execution_count": 495,
   "metadata": {},
   "outputs": [],
   "source": [
    "temp_iq = Y_iq.reshape(150)\n",
    "\n",
    "final_iq = np.roll(temp_iq, 1)\n",
    "\n",
    "df_iq_temp = pd.DataFrame(final_iq, columns=['total_cases'])"
   ]
  },
  {
   "cell_type": "code",
   "execution_count": 496,
   "metadata": {},
   "outputs": [
    {
     "data": {
      "text/plain": [
       "(6, 1)"
      ]
     },
     "execution_count": 496,
     "metadata": {},
     "output_type": "execute_result"
    }
   ],
   "source": [
    "remainder_iq = submission_labels.loc['iq'][150:156]\n",
    "remainder_iq.shape"
   ]
  },
  {
   "cell_type": "code",
   "execution_count": 497,
   "metadata": {},
   "outputs": [
    {
     "data": {
      "text/plain": [
       "(156, 1)"
      ]
     },
     "execution_count": 497,
     "metadata": {},
     "output_type": "execute_result"
    }
   ],
   "source": [
    "df_iq = np.concatenate([df_iq_temp, remainder_iq])\n",
    "df_iq.shape"
   ]
  },
  {
   "cell_type": "code",
   "execution_count": 498,
   "metadata": {},
   "outputs": [],
   "source": [
    "final_submission = np.concatenate([df_sj, df_iq])\n",
    "final_submission = final_submission.astype(np.int64)"
   ]
  },
  {
   "cell_type": "code",
   "execution_count": 499,
   "metadata": {},
   "outputs": [],
   "source": [
    "submission = pd.read_csv(\"./submissions/submission_format.csv\",\n",
    "                         index_col=[0, 1, 2])\n",
    "\n",
    "submission.total_cases = final_submission\n",
    "submission.to_csv(\"./benchmark.csv\")"
   ]
  },
  {
   "cell_type": "code",
   "execution_count": null,
   "metadata": {},
   "outputs": [],
   "source": []
  }
 ],
 "metadata": {
  "kernelspec": {
   "display_name": "Python(TensorflowTestEnv)",
   "language": "python",
   "name": "tensorflowtestenv"
  },
  "language_info": {
   "codemirror_mode": {
    "name": "ipython",
    "version": 3
   },
   "file_extension": ".py",
   "mimetype": "text/x-python",
   "name": "python",
   "nbconvert_exporter": "python",
   "pygments_lexer": "ipython3",
   "version": "3.6.7"
  }
 },
 "nbformat": 4,
 "nbformat_minor": 2
}
